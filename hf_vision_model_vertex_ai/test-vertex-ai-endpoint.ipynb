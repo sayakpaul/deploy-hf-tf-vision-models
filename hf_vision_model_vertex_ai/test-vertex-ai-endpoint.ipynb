{
 "cells": [
  {
   "cell_type": "markdown",
   "id": "3b547027",
   "metadata": {},
   "source": [
    "## Imports"
   ]
  },
  {
   "cell_type": "code",
   "execution_count": 1,
   "id": "4bf4c07d-deb3-4b08-9dcc-c5e496319e1d",
   "metadata": {},
   "outputs": [],
   "source": [
    "import google.auth # pip install -U google-auth\n",
    "from google.auth.transport.requests import AuthorizedSession"
   ]
  },
  {
   "cell_type": "code",
   "execution_count": 2,
   "id": "35833d70-e3a4-453b-8af1-490c1a49559b",
   "metadata": {},
   "outputs": [],
   "source": [
    "import tensorflow as tf \n",
    "import base64\n",
    "import json"
   ]
  },
  {
   "cell_type": "markdown",
   "id": "9d7540a1",
   "metadata": {},
   "source": [
    "## Set up variables"
   ]
  },
  {
   "cell_type": "code",
   "execution_count": 3,
   "id": "ddd343b1-51ad-47ae-b5d0-46943ebb887b",
   "metadata": {},
   "outputs": [],
   "source": [
    "PROJECT_ID = \"GCP-PROJECT-ID\"\n",
    "REGION = \"us-central1\"\n",
    "ENDPOINT_ID = \"ENDPOINT-ID\""
   ]
  },
  {
   "cell_type": "markdown",
   "id": "c6190f60",
   "metadata": {},
   "source": [
    "## Obtain a authorized session to query the Endpoint"
   ]
  },
  {
   "cell_type": "code",
   "execution_count": 4,
   "id": "bcd364e0-139f-4140-bd01-86a39bd9992e",
   "metadata": {},
   "outputs": [],
   "source": [
    "credentials, _ = google.auth.default()\n",
    "service_endpoint = f\"https://{REGION}-aiplatform.googleapis.com\"\n",
    "authed_session = AuthorizedSession(credentials)"
   ]
  },
  {
   "cell_type": "code",
   "execution_count": 5,
   "id": "0cd20480-e62f-49f0-96fe-e0b0ff62dcf2",
   "metadata": {},
   "outputs": [
    {
     "name": "stdout",
     "output_type": "stream",
     "text": [
      "Endpoint:  https://us-central1-aiplatform.googleapis.com/v1/projects/fast-ai-exploration/locations/us-central1/endpoints/8308780672684654592:predict\n"
     ]
    }
   ],
   "source": [
    "url = \"{}/v1/projects/{}/locations/{}/endpoints/{}:predict\".format(\n",
    "    service_endpoint, PROJECT_ID, REGION, ENDPOINT_ID\n",
    ")\n",
    "print(\"Endpoint: \", url)"
   ]
  },
  {
   "cell_type": "markdown",
   "id": "965211f7",
   "metadata": {},
   "source": [
    "## Obtain an image for prediction"
   ]
  },
  {
   "cell_type": "code",
   "execution_count": 6,
   "id": "cee4ba4c-b306-476f-8754-a1b7ca9ca3a7",
   "metadata": {},
   "outputs": [],
   "source": [
    "image_path = tf.keras.utils.get_file(\n",
    "    \"image.jpg\", \"http://images.cocodataset.org/val2017/000000039769.jpg\"\n",
    ")\n",
    "\n",
    "with open(image_path, \"rb\") as f:\n",
    "    image = f.read()"
   ]
  },
  {
   "cell_type": "markdown",
   "id": "87b3759f",
   "metadata": {},
   "source": [
    "## Prepare request payloads"
   ]
  },
  {
   "cell_type": "code",
   "execution_count": 7,
   "id": "37744d3e-ce99-4c71-aec6-c63513fdfce9",
   "metadata": {},
   "outputs": [],
   "source": [
    "serving_input = \"string_input\"\n",
    "single_instance_request_body = {\n",
    "    \"instances\": [{serving_input: {\"b64\": base64.b64encode(image).decode(\"utf-8\")}}]\n",
    "}\n",
    "two_instances_request_body = {\n",
    "    \"instances\": [\n",
    "        {serving_input: {\"b64\": base64.b64encode(image).decode(\"utf-8\")}}\n",
    "        for _ in range(2)\n",
    "    ]\n",
    "}"
   ]
  },
  {
   "cell_type": "markdown",
   "id": "16aea15e",
   "metadata": {},
   "source": [
    "Here we're preparing two kinds of request payloads:\n",
    "\n",
    "* One that will contain a single image instance\n",
    "* Another one will contain two images instances\n",
    "\n",
    "This is just to show you that it's possible to send multiple instances to a Vertex AI Endpoint for prediction as long as you're within in the [request size limit](https://cloud.google.com/vertex-ai/docs/predictions/online-predictions-custom-models?&_ga=2.247311684.-1508917096.1630288038#send_an_online_prediction_request). "
   ]
  },
  {
   "cell_type": "markdown",
   "id": "e16411a8",
   "metadata": {},
   "source": [
    "## Make requests"
   ]
  },
  {
   "cell_type": "code",
   "execution_count": 8,
   "id": "1660b8b5-e04d-410b-85bf-5b74a466327a",
   "metadata": {},
   "outputs": [
    {
     "name": "stdout",
     "output_type": "stream",
     "text": [
      "<Response [200]>\n",
      "b'{\\n  \"predictions\": [\\n    {\\n      \"confidence\": 0.896659553,\\n      \"label\": \"Egyptian cat\"\\n    }\\n  ],\\n  \"deployedModelId\": \"7779233882515177472\",\\n  \"model\": \"projects/29880397572/locations/us-central1/models/4024718333008936960\",\\n  \"modelDisplayName\": \"ViT Base TF2.8 GPU model\",\\n  \"modelVersionId\": \"1\"\\n}\\n'\n"
     ]
    }
   ],
   "source": [
    "# Single instance.\n",
    "response = authed_session.post(url, data=json.dumps(single_instance_request_body))\n",
    "print(response)\n",
    "print(response.content)"
   ]
  },
  {
   "cell_type": "code",
   "execution_count": 9,
   "id": "87d1ab41-4329-4620-9dcb-de5cdf2a86df",
   "metadata": {},
   "outputs": [
    {
     "name": "stdout",
     "output_type": "stream",
     "text": [
      "<Response [200]>\n",
      "b'{\\n  \"predictions\": [\\n    {\\n      \"label\": \"Egyptian cat\",\\n      \"confidence\": 0.896659374\\n    },\\n    {\\n      \"confidence\": 0.896659374,\\n      \"label\": \"Egyptian cat\"\\n    }\\n  ],\\n  \"deployedModelId\": \"7779233882515177472\",\\n  \"model\": \"projects/29880397572/locations/us-central1/models/4024718333008936960\",\\n  \"modelDisplayName\": \"ViT Base TF2.8 GPU model\",\\n  \"modelVersionId\": \"1\"\\n}\\n'\n"
     ]
    }
   ],
   "source": [
    "# Two instances.\n",
    "response = authed_session.post(url, data=json.dumps(two_instances_request_body))\n",
    "print(response)\n",
    "print(response.content)"
   ]
  },
  {
   "cell_type": "markdown",
   "id": "9a57064f",
   "metadata": {},
   "source": [
    "## (Optional) Serialize the request payloads for later use"
   ]
  },
  {
   "cell_type": "code",
   "execution_count": 10,
   "id": "7ef815ef-8db9-4fc5-a5ea-dd9fc180fdf5",
   "metadata": {},
   "outputs": [],
   "source": [
    "with open(\"single-instance.json\", \"w\") as f:\n",
    "    json.dump(single_instance_request_body, f)\n",
    "\n",
    "\n",
    "with open(\"two-instances.json\", \"w\") as f:\n",
    "    json.dump(two_instances_request_body, f)"
   ]
  },
  {
   "cell_type": "markdown",
   "id": "e5ee4617",
   "metadata": {},
   "source": [
    "## Load a serialized request payload and make a request"
   ]
  },
  {
   "cell_type": "code",
   "execution_count": 11,
   "id": "5193d004-5f8e-4100-beda-63c8c995439f",
   "metadata": {},
   "outputs": [],
   "source": [
    "with open(\"single-instance.json\", \"rb\") as f:\n",
    "    json_string = json.load(f)"
   ]
  },
  {
   "cell_type": "code",
   "execution_count": 12,
   "id": "8c0bd85f-8e9a-49a6-a01a-dee2110cf4e5",
   "metadata": {},
   "outputs": [
    {
     "name": "stdout",
     "output_type": "stream",
     "text": [
      "<Response [200]>\n",
      "b'{\\n  \"predictions\": [\\n    {\\n      \"confidence\": 0.896659553,\\n      \"label\": \"Egyptian cat\"\\n    }\\n  ],\\n  \"deployedModelId\": \"7779233882515177472\",\\n  \"model\": \"projects/29880397572/locations/us-central1/models/4024718333008936960\",\\n  \"modelDisplayName\": \"ViT Base TF2.8 GPU model\",\\n  \"modelVersionId\": \"1\"\\n}\\n'\n"
     ]
    }
   ],
   "source": [
    "response = authed_session.post(url, data=json.dumps(single_instance_request_body))\n",
    "print(response)\n",
    "print(response.content)"
   ]
  }
 ],
 "metadata": {
  "environment": {
   "kernel": "python3",
   "name": "tf2-gpu.2-9.m94",
   "type": "gcloud",
   "uri": "gcr.io/deeplearning-platform-release/tf2-gpu.2-9:m94"
  },
  "kernelspec": {
   "display_name": "Python 3 (ipykernel)",
   "language": "python",
   "name": "python3"
  },
  "language_info": {
   "codemirror_mode": {
    "name": "ipython",
    "version": 3
   },
   "file_extension": ".py",
   "mimetype": "text/x-python",
   "name": "python",
   "nbconvert_exporter": "python",
   "pygments_lexer": "ipython3",
   "version": "3.8.2"
  }
 },
 "nbformat": 4,
 "nbformat_minor": 5
}
